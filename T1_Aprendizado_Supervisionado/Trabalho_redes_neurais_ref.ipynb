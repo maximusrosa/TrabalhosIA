{
 "nbformat": 4,
 "nbformat_minor": 0,
 "metadata": {
  "colab": {
   "provenance": []
  },
  "kernelspec": {
   "name": "python3",
   "display_name": "Python 3 (ipykernel)",
   "language": "python"
  },
  "language_info": {
   "name": "python"
  }
 },
 "cells": [
  {
   "cell_type": "markdown",
   "source": [
    "\n",
    "Imports e definição do dataset."
   ],
   "metadata": {
    "id": "8g5GN3EpDn4b"
   }
  },
  {
   "cell_type": "code",
   "metadata": {
    "id": "gpxhsZya71hk",
    "ExecuteTime": {
     "end_time": "2024-11-06T18:44:18.025742Z",
     "start_time": "2024-11-06T18:44:13.320532Z"
    }
   },
   "source": [
    "import tensorflow as tf\n",
    "from tensorflow import keras\n",
    "import matplotlib.pyplot as plt"
   ],
   "outputs": [],
   "execution_count": 3
  },
  {
   "cell_type": "markdown",
   "source": [
    "Carregamento do dataset cifar-10"
   ],
   "metadata": {
    "id": "qQhkJUZODtd1"
   }
  },
  {
   "cell_type": "code",
   "source": [
    "# Carregar o conjunto de dados CIFAR-10\n",
    "cifar10 = keras.datasets.cifar10\n",
    "#Carrega duas tuplas, representando os dados de treinamento e de teste.\n",
    "#Cada tupla tem as imagens e os respectivos rótulos\n",
    "(train_images, train_labels), (test_images, test_labels) = cifar10.load_data()\n",
    "num_classes = 10"
   ],
   "metadata": {
    "id": "vQQvrT5v785X",
    "ExecuteTime": {
     "end_time": "2024-11-06T18:44:20.099929Z",
     "start_time": "2024-11-06T18:44:18.027751Z"
    }
   },
   "outputs": [],
   "execution_count": 4
  },
  {
   "cell_type": "markdown",
   "source": [
    "O código abaixo mostra as 10 primeiras imagens de treino e teste do cifar-10"
   ],
   "metadata": {
    "id": "MwHzFJajDxZt"
   }
  },
  {
   "cell_type": "code",
   "source": [
    "# Defina as classes do CIFAR-10\n",
    "class_names = ['Avião', 'Automóvel', 'Pássaro', 'Gato', 'Cervo',\n",
    "               'Cachorro', 'Sapo', 'Cavalo', 'Navio', 'Caminhão']\n",
    "\n",
    "# Crie um dicionário para mapear as classes para as imagens correspondentes\n",
    "class_to_image = {}\n",
    "for i in range(10):\n",
    "    index = (test_labels == i).nonzero()[0][0]  # Encontre o primeiro índice da classe\n",
    "    class_to_image[i] = test_images[index]\n",
    "\n",
    "# Mostre uma imagem de cada classe\n",
    "plt.figure(figsize=(10, 5))\n",
    "for i in range(10):\n",
    "    plt.subplot(2, 5, i + 1)\n",
    "    plt.xticks([])  # Remova os rótulos do eixo x\n",
    "    plt.yticks([])  # Remova os rótulos do eixo y\n",
    "    plt.imshow(class_to_image[i])\n",
    "    plt.xlabel(class_names[i])\n",
    "\n",
    "plt.tight_layout()\n",
    "plt.show()"
   ],
   "metadata": {
    "colab": {
     "base_uri": "https://localhost:8080/",
     "height": 470
    },
    "id": "wJipJNqX9zsJ",
    "outputId": "91ceee79-6051-455e-9cfc-9b2c74390a33"
   },
   "outputs": [],
   "execution_count": null
  },
  {
   "cell_type": "markdown",
   "source": [
    "Abaixo, convertemos os rótulos escalares (números de 0 a 9) para one-hot encoding.\n",
    "\n",
    "Não é necessário realizar este passo, caso seja utilizada a função de custo esparse_categorical_cross_entropy"
   ],
   "metadata": {
    "id": "hZxLXNIaD4lq"
   }
  },
  {
   "cell_type": "code",
   "source": [
    "# Converter para codificação one-hot dos labels\n",
    "train_labels = tf.keras.utils.to_categorical(train_labels, num_classes=num_classes)\n",
    "test_labels = tf.keras.utils.to_categorical(test_labels, num_classes=num_classes)\n",
    "#Não é necessário se utilizar como função de custo esparse_categorical_cross_entropy"
   ],
   "metadata": {
    "id": "0h1CJgPJ9MTt",
    "ExecuteTime": {
     "end_time": "2024-11-06T18:43:55.801047Z",
     "start_time": "2024-11-06T18:43:55.800048Z"
    }
   },
   "outputs": [],
   "execution_count": null
  },
  {
   "cell_type": "markdown",
   "source": [
    "Função que retorna uma rede neural para o cifar-10"
   ],
   "metadata": {
    "id": "nymnOpRMETAu"
   }
  },
  {
   "cell_type": "code",
   "source": [
    "# Crie o modelo de rede neural convolucional simples\n",
    "def get_cifar10_network():\n",
    "    model = keras.Sequential([\n",
    "        tf.keras.layers.Conv2D(32, (3, 3), activation='relu', input_shape=(32, 32, 3)),#(32, 32, 3) porque as imagens são 32X32 e RGB, portanto, tendo 3 canais de cor\n",
    "        tf.keras.layers.MaxPooling2D((2, 2)),\n",
    "        tf.keras.layers.Flatten(),\n",
    "        tf.keras.layers.Dense(64, activation='relu'),\n",
    "        tf.keras.layers.Dense(num_classes, activation='softmax')  # 10 classes de saída\n",
    "    ])\n",
    "\n",
    "    # Compile o modelo\n",
    "    model.compile(optimizer='adam',\n",
    "                  loss='categorical_crossentropy',#pode ser substituída pela esparse_categorical_cross_entropy\n",
    "                  metrics=['accuracy'])\n",
    "\n",
    "    model.summary()\n",
    "\n",
    "    return model"
   ],
   "metadata": {
    "id": "nPrIRBmT8XiN"
   },
   "outputs": [],
   "execution_count": null
  },
  {
   "cell_type": "markdown",
   "source": [
    "Trecho para treinar e avaliar a rede neural.\n",
    "O treino é realizado com os dados de treino e a avaliação do modelo é realizada nos dados de teste."
   ],
   "metadata": {
    "id": "wjmscwcQErIx"
   }
  },
  {
   "cell_type": "code",
   "source": [
    "# Treine o modelo\n",
    "model = get_cifar10_network()\n",
    "model.fit(train_images, train_labels, epochs=10)\n",
    "\n",
    "# Avalie o modelo no conjunto de teste\n",
    "test_loss, test_accuracy = model.evaluate(test_images, test_labels)\n",
    "print(f'Acurácia no conjunto de teste: {test_accuracy * 100:.2f}%')"
   ],
   "metadata": {
    "colab": {
     "base_uri": "https://localhost:8080/"
    },
    "id": "3uN8v8_m8cvR",
    "outputId": "8fc65d80-77bf-4d3f-aa99-14cd9713ac0f"
   },
   "outputs": [],
   "execution_count": null
  },
  {
   "cell_type": "markdown",
   "source": [
    "Na célula abaixo, adicione o código para carregar os demais datasets"
   ],
   "metadata": {
    "id": "Vc5-m031HdY0"
   }
  },
  {
   "cell_type": "code",
   "source": [
    "#Inclua o código para carregar os demais datasets"
   ],
   "metadata": {
    "id": "9l2VipoMHnmH"
   },
   "outputs": [],
   "execution_count": null
  },
  {
   "cell_type": "markdown",
   "source": [
    "Tarefa\n",
    "Escreva código para executar redes neurais nos seguintes datasets:\n",
    "\n",
    "MNIST (pode aproveitar o codigo existente)\n",
    "Fashion MNIST\n",
    "CIFAR-10\n",
    "CIFAR-100\n",
    "Cada execução deve ser por 10 épocas.\n",
    "\n",
    "Você deve preencher as funções a seguir para retornarem a rede neural com a melhor configuração que você conseguiu para cada dataset. O notebook deve ser entregue com a rede neural que obteve a melhor performance em cada conjunto de dados.\n",
    "\n",
    "IMPORTANTE: as funções não devem TREINAR nem AVALIAR as redes neurais, apenas instanciá-las e retorná-las.\n",
    "\n",
    "Ao final, preencha o dict results com o desempenho encontrado em cada execução."
   ],
   "metadata": {
    "id": "bKkBlEy1ExHj"
   }
  },
  {
   "cell_type": "code",
   "source": [
    "def get_fashion_mnist_network():\n",
    "  pass  # substitua pelo seu codigo\n",
    "\n",
    "def get_mnist_network():\n",
    "  pass  # substitua pelo seu codigo\n",
    "\n",
    "def get_cifar100_network():\n",
    "  pass # substitua pelo seu codigo\n",
    "\n",
    "#Você pode aproveitar as ideias do exemplo acima\n",
    "def get_cifar10_network():\n",
    "  pass # substitua pelo seu codigo"
   ],
   "metadata": {
    "id": "gN14IpXnFfCQ"
   },
   "outputs": [],
   "execution_count": null
  },
  {
   "cell_type": "markdown",
   "source": [
    "Preencha o dict abaixo substituindo os None com a acuracia final (acc) e o tempo de treinamento (time) encontrado no seu experimento pra cada dataset"
   ],
   "metadata": {
    "id": "iERVafMPF2Tn"
   }
  },
  {
   "cell_type": "code",
   "source": [
    "results = {\n",
    "    \"mnist\": {\"time\": None, \"acc\": None},\n",
    "    \"fashion_mnist\": {\"time\": None, \"acc\": None},\n",
    "    \"cifar10\": {\"time\": None, \"acc\": None},\n",
    "    \"cifar100\": {\"time\": None, \"acc\": None},\n",
    "}"
   ],
   "metadata": {
    "id": "kEUK1xk6Fk48"
   },
   "outputs": [],
   "execution_count": null
  }
 ]
}
